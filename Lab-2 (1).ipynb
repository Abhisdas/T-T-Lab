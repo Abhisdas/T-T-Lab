{
 "cells": [
  {
   "cell_type": "code",
   "execution_count": 3,
   "id": "e618aa75-e1c1-4c82-b861-79b1b9c5cb11",
   "metadata": {},
   "outputs": [
    {
     "name": "stdin",
     "output_type": "stream",
     "text": [
      "Enter Your Name: Abhishek\n"
     ]
    },
    {
     "name": "stdout",
     "output_type": "stream",
     "text": [
      "bhis\n"
     ]
    }
   ],
   "source": [
    "name=input(\"Enter Your Name:\")\n",
    "print(name[1:5])"
   ]
  },
  {
   "cell_type": "code",
   "execution_count": 5,
   "id": "41f4f00e-93a5-4d52-8fd5-565c833ae004",
   "metadata": {},
   "outputs": [
    {
     "name": "stdin",
     "output_type": "stream",
     "text": [
      "Enter Your Name: Abhishek Das\n"
     ]
    },
    {
     "name": "stdout",
     "output_type": "stream",
     "text": [
      "a\n"
     ]
    }
   ],
   "source": [
    "name=input(\"Enter Your Name:\")\n",
    "print(name[10])"
   ]
  },
  {
   "cell_type": "code",
   "execution_count": 6,
   "id": "57ff9ae6-83e2-46aa-b199-6cd39b414942",
   "metadata": {},
   "outputs": [
    {
     "data": {
      "text/plain": [
       "'s'"
      ]
     },
     "execution_count": 6,
     "metadata": {},
     "output_type": "execute_result"
    }
   ],
   "source": [
    "name[-1]"
   ]
  },
  {
   "cell_type": "code",
   "execution_count": 7,
   "id": "d539ab2a-3780-4b90-8108-c60fa1dba4ee",
   "metadata": {},
   "outputs": [
    {
     "data": {
      "text/plain": [
       "('b', 's')"
      ]
     },
     "execution_count": 7,
     "metadata": {},
     "output_type": "execute_result"
    }
   ],
   "source": [
    "name[1],name[-1]"
   ]
  },
  {
   "cell_type": "code",
   "execution_count": 8,
   "id": "8a44eb68-5e83-48c0-b0c7-b690e116c3dd",
   "metadata": {},
   "outputs": [
    {
     "data": {
      "text/plain": [
       "['__add__',\n",
       " '__class__',\n",
       " '__contains__',\n",
       " '__delattr__',\n",
       " '__dir__',\n",
       " '__doc__',\n",
       " '__eq__',\n",
       " '__format__',\n",
       " '__ge__',\n",
       " '__getattribute__',\n",
       " '__getitem__',\n",
       " '__getnewargs__',\n",
       " '__getstate__',\n",
       " '__gt__',\n",
       " '__hash__',\n",
       " '__init__',\n",
       " '__init_subclass__',\n",
       " '__iter__',\n",
       " '__le__',\n",
       " '__len__',\n",
       " '__lt__',\n",
       " '__mod__',\n",
       " '__mul__',\n",
       " '__ne__',\n",
       " '__new__',\n",
       " '__reduce__',\n",
       " '__reduce_ex__',\n",
       " '__repr__',\n",
       " '__rmod__',\n",
       " '__rmul__',\n",
       " '__setattr__',\n",
       " '__sizeof__',\n",
       " '__str__',\n",
       " '__subclasshook__',\n",
       " 'capitalize',\n",
       " 'casefold',\n",
       " 'center',\n",
       " 'count',\n",
       " 'encode',\n",
       " 'endswith',\n",
       " 'expandtabs',\n",
       " 'find',\n",
       " 'format',\n",
       " 'format_map',\n",
       " 'index',\n",
       " 'isalnum',\n",
       " 'isalpha',\n",
       " 'isascii',\n",
       " 'isdecimal',\n",
       " 'isdigit',\n",
       " 'isidentifier',\n",
       " 'islower',\n",
       " 'isnumeric',\n",
       " 'isprintable',\n",
       " 'isspace',\n",
       " 'istitle',\n",
       " 'isupper',\n",
       " 'join',\n",
       " 'ljust',\n",
       " 'lower',\n",
       " 'lstrip',\n",
       " 'maketrans',\n",
       " 'partition',\n",
       " 'removeprefix',\n",
       " 'removesuffix',\n",
       " 'replace',\n",
       " 'rfind',\n",
       " 'rindex',\n",
       " 'rjust',\n",
       " 'rpartition',\n",
       " 'rsplit',\n",
       " 'rstrip',\n",
       " 'split',\n",
       " 'splitlines',\n",
       " 'startswith',\n",
       " 'strip',\n",
       " 'swapcase',\n",
       " 'title',\n",
       " 'translate',\n",
       " 'upper',\n",
       " 'zfill']"
      ]
     },
     "execution_count": 8,
     "metadata": {},
     "output_type": "execute_result"
    }
   ],
   "source": [
    "dir(name)"
   ]
  },
  {
   "cell_type": "code",
   "execution_count": 9,
   "id": "326fb200-7449-4ed4-8281-81bb58eab407",
   "metadata": {},
   "outputs": [
    {
     "data": {
      "text/plain": [
       "'ABHISHEK DAS'"
      ]
     },
     "execution_count": 9,
     "metadata": {},
     "output_type": "execute_result"
    }
   ],
   "source": [
    "name.upper()"
   ]
  },
  {
   "cell_type": "code",
   "execution_count": 10,
   "id": "499a964f-f629-4681-bdd8-1b0387977c86",
   "metadata": {},
   "outputs": [
    {
     "data": {
      "text/plain": [
       "'abhishek das'"
      ]
     },
     "execution_count": 10,
     "metadata": {},
     "output_type": "execute_result"
    }
   ],
   "source": [
    "name.lower()"
   ]
  },
  {
   "cell_type": "code",
   "execution_count": 11,
   "id": "76b3a370-2ffb-496c-9cc8-54224e0a3b56",
   "metadata": {},
   "outputs": [
    {
     "data": {
      "text/plain": [
       "'Abhishek Das'"
      ]
     },
     "execution_count": 11,
     "metadata": {},
     "output_type": "execute_result"
    }
   ],
   "source": [
    "name.title()"
   ]
  },
  {
   "cell_type": "code",
   "execution_count": 12,
   "id": "a6dffcff-e4b6-49ea-95de-d84271f0062c",
   "metadata": {},
   "outputs": [
    {
     "data": {
      "text/plain": [
       "'TooLs and TEchNiqueS'"
      ]
     },
     "execution_count": 12,
     "metadata": {},
     "output_type": "execute_result"
    }
   ],
   "source": [
    "sub=\"TooLs and TEchNiqueS\"\n",
    "sub"
   ]
  },
  {
   "cell_type": "code",
   "execution_count": 13,
   "id": "113b062a-87d1-45f7-a02f-d56fe1c74272",
   "metadata": {},
   "outputs": [
    {
     "data": {
      "text/plain": [
       "('tools and techniques', 'TOOLS AND TECHNIQUES')"
      ]
     },
     "execution_count": 13,
     "metadata": {},
     "output_type": "execute_result"
    }
   ],
   "source": [
    "sub.lower(),sub.upper()"
   ]
  },
  {
   "cell_type": "code",
   "execution_count": 14,
   "id": "215815ad-5318-478a-816f-4af86b43713d",
   "metadata": {},
   "outputs": [
    {
     "data": {
      "text/plain": [
       "('Tools And Techniques', 'tOOlS AND teCHnIQUEs')"
      ]
     },
     "execution_count": 14,
     "metadata": {},
     "output_type": "execute_result"
    }
   ],
   "source": [
    "sub.title(),sub.swapcase()"
   ]
  },
  {
   "cell_type": "code",
   "execution_count": 15,
   "id": "29f3847c-5e56-4e32-b3c2-2bef88bc1c3f",
   "metadata": {},
   "outputs": [
    {
     "name": "stdout",
     "output_type": "stream",
     "text": [
      "No Python documentation found for 'Abhishek Das'.\n",
      "Use help() to get the interactive help utility.\n",
      "Use help(str) for help on the str class.\n",
      "\n"
     ]
    }
   ],
   "source": [
    "help(name.title())"
   ]
  },
  {
   "cell_type": "code",
   "execution_count": 16,
   "id": "4dc6565d-76eb-414e-94a2-1e659e87daba",
   "metadata": {},
   "outputs": [
    {
     "data": {
      "text/plain": [
       "20"
      ]
     },
     "execution_count": 16,
     "metadata": {},
     "output_type": "execute_result"
    }
   ],
   "source": [
    "len(sub)"
   ]
  },
  {
   "cell_type": "code",
   "execution_count": null,
   "id": "14e8a86f-e6e1-4e6b-800d-9b7c01907335",
   "metadata": {},
   "outputs": [],
   "source": [
    "#create a list of numbers and display odd numbers"
   ]
  },
  {
   "cell_type": "code",
   "execution_count": 17,
   "id": "dae149a4-bf4a-494e-8fc9-6acdce649b38",
   "metadata": {},
   "outputs": [
    {
     "data": {
      "text/plain": [
       "[1, 2, 3, 4, 5, 6, 7, 8]"
      ]
     },
     "execution_count": 17,
     "metadata": {},
     "output_type": "execute_result"
    }
   ],
   "source": [
    "num=[1,2,3,4,5,6,7,8]\n",
    "num"
   ]
  },
  {
   "cell_type": "code",
   "execution_count": 18,
   "id": "0cba50c9-c589-4fa3-895a-a08927fc64f8",
   "metadata": {},
   "outputs": [
    {
     "data": {
      "text/plain": [
       "[1, 3, 5, 7]"
      ]
     },
     "execution_count": 18,
     "metadata": {},
     "output_type": "execute_result"
    }
   ],
   "source": [
    "num[0:len(num):2]"
   ]
  },
  {
   "cell_type": "code",
   "execution_count": 19,
   "id": "89931a57-c797-4e6a-9082-cd0abe54b218",
   "metadata": {},
   "outputs": [
    {
     "data": {
      "text/plain": [
       "[1, 2, 3, 4, 5, 6, 7, 8]"
      ]
     },
     "execution_count": 19,
     "metadata": {},
     "output_type": "execute_result"
    }
   ],
   "source": [
    "num[0:len(num):1]"
   ]
  },
  {
   "cell_type": "code",
   "execution_count": null,
   "id": "d2a7ecd0-73fb-4891-868e-577474881339",
   "metadata": {},
   "outputs": [],
   "source": [
    "#Range Method used in Looping"
   ]
  },
  {
   "cell_type": "code",
   "execution_count": 20,
   "id": "57df0ba6-b763-4645-82b6-8b3671612f93",
   "metadata": {},
   "outputs": [
    {
     "name": "stdout",
     "output_type": "stream",
     "text": [
      "T\n",
      "o\n",
      "o\n",
      "L\n",
      "s\n",
      " \n",
      "a\n",
      "n\n",
      "d\n",
      " \n",
      "T\n",
      "E\n",
      "c\n",
      "h\n",
      "N\n",
      "i\n",
      "q\n",
      "u\n",
      "e\n",
      "S\n"
     ]
    }
   ],
   "source": [
    "for i in sub:\n",
    "    print(i)"
   ]
  },
  {
   "cell_type": "code",
   "execution_count": 21,
   "id": "6a3132dc-e4e9-4086-b113-8c016f5f3187",
   "metadata": {},
   "outputs": [
    {
     "name": "stdout",
     "output_type": "stream",
     "text": [
      "T#o#o#L#s# #a#n#d# #T#E#c#h#N#i#q#u#e#S#"
     ]
    }
   ],
   "source": [
    "for i in sub:\n",
    "    print(i,end=\"#\")"
   ]
  },
  {
   "cell_type": "code",
   "execution_count": 22,
   "id": "5ca5abee-693d-4a7c-a319-54aa93635c5e",
   "metadata": {},
   "outputs": [
    {
     "name": "stdout",
     "output_type": "stream",
     "text": [
      "T o o L s   a n d   T E c h N i q u e S "
     ]
    }
   ],
   "source": [
    "for i in sub:\n",
    "    print(i,end=\" \")"
   ]
  },
  {
   "cell_type": "code",
   "execution_count": 25,
   "id": "8f6c685a-d153-47f9-b372-e0a8fa357faf",
   "metadata": {},
   "outputs": [
    {
     "name": "stdout",
     "output_type": "stream",
     "text": [
      "A#b#h#i#s#h#e#k# #D#a#s#"
     ]
    }
   ],
   "source": [
    "for x in name:\n",
    "    print(x,end=\"#\")"
   ]
  },
  {
   "cell_type": "code",
   "execution_count": 26,
   "id": "89d7e25a-228a-49e3-9153-febe8d2f5ac0",
   "metadata": {},
   "outputs": [
    {
     "name": "stdout",
     "output_type": "stream",
     "text": [
      "T o o L s   a n d   T E c h N i q u e S "
     ]
    }
   ],
   "source": [
    "for i in sub:\n",
    "    print(i,end=' ')"
   ]
  },
  {
   "cell_type": "code",
   "execution_count": 27,
   "id": "46cfce80-bae5-441b-8b58-3d6687f5231c",
   "metadata": {},
   "outputs": [
    {
     "name": "stdout",
     "output_type": "stream",
     "text": [
      "A b h i s h e k   D a s "
     ]
    }
   ],
   "source": [
    "for x in name:\n",
    "    print(x,end=' ')"
   ]
  },
  {
   "cell_type": "code",
   "execution_count": null,
   "id": "f1125cb5-fbfc-484d-a1e1-e5cfd35780d6",
   "metadata": {},
   "outputs": [],
   "source": [
    "#Dipslay even index letter using loop and if else"
   ]
  },
  {
   "cell_type": "code",
   "execution_count": 31,
   "id": "5fd16f9c-e001-4484-9f1a-12ce91fa930c",
   "metadata": {},
   "outputs": [
    {
     "name": "stdout",
     "output_type": "stream",
     "text": [
      "A Hi\n",
      "b Hi\n",
      "h Hi\n",
      "i Hi\n",
      "s Hi\n",
      "h Hi\n",
      "e Hi\n",
      "k Hi\n",
      "  Hi\n",
      "D Hi\n",
      "a Hi\n",
      "s Hi\n"
     ]
    }
   ],
   "source": [
    "for x in name:\n",
    "    print(x,end=' ')\n",
    "    print(\"Hi\")"
   ]
  },
  {
   "cell_type": "code",
   "execution_count": 34,
   "id": "4e3efdae-981f-4950-832e-0ad9f756ddd2",
   "metadata": {},
   "outputs": [
    {
     "name": "stdout",
     "output_type": "stream",
     "text": [
      "0\n",
      "2\n",
      "4\n",
      "6\n",
      "8\n",
      "10\n",
      "12\n",
      "14\n",
      "16\n",
      "18\n"
     ]
    }
   ],
   "source": [
    "for i in range(len(sub)):\n",
    "    if(i%2==0):\n",
    "        print(i)"
   ]
  },
  {
   "cell_type": "code",
   "execution_count": null,
   "id": "94c6663f-706c-4ad3-930e-a91f5b81f569",
   "metadata": {},
   "outputs": [],
   "source": [
    "#Display the sum of 5 numbers taken from keyboard using for and while loop"
   ]
  },
  {
   "cell_type": "code",
   "execution_count": null,
   "id": "9d58c14a-5e25-4de8-9c33-5eb78cc3aeab",
   "metadata": {},
   "outputs": [],
   "source": [
    "#Display first 6 natural number using while"
   ]
  },
  {
   "cell_type": "code",
   "execution_count": 36,
   "id": "61f5d995-cb28-4395-8b2d-5d260ddb9181",
   "metadata": {},
   "outputs": [
    {
     "name": "stdout",
     "output_type": "stream",
     "text": [
      "1 2 3 4 5 6 "
     ]
    }
   ],
   "source": [
    "i=1\n",
    "while(i<=6):\n",
    "    print(i,end=\" \")\n",
    "    i=i+1"
   ]
  },
  {
   "cell_type": "code",
   "execution_count": 37,
   "id": "41b07aec-2151-4259-b608-eea04da394df",
   "metadata": {},
   "outputs": [
    {
     "name": "stdin",
     "output_type": "stream",
     "text": [
      "Enter first integer:  4\n",
      "Enter second integer:  1\n"
     ]
    },
    {
     "name": "stdout",
     "output_type": "stream",
     "text": [
      "Select operation:\n",
      "1. Add\n",
      "2. Subtract\n",
      "3. Multiply\n",
      "4. Divide\n"
     ]
    },
    {
     "name": "stdin",
     "output_type": "stream",
     "text": [
      "Enter choice (1/2/3/4):  4\n"
     ]
    },
    {
     "name": "stdout",
     "output_type": "stream",
     "text": [
      "Result: 4.0\n"
     ]
    }
   ],
   "source": [
    "num1 = int(input(\"Enter first integer: \"))\n",
    "num2 = int(input(\"Enter second integer: \"))\n",
    "\n",
    "print(\"Select operation:\")\n",
    "print(\"1. Add\")\n",
    "print(\"2. Subtract\")\n",
    "print(\"3. Multiply\")\n",
    "print(\"4. Divide\")\n",
    "\n",
    "choice = int(input(\"Enter choice (1/2/3/4): \"))\n",
    "\n",
    "if choice == 1:\n",
    "    result = num1 + num2\n",
    "elif choice == 2:\n",
    "    result = num1 - num2\n",
    "elif choice == 3:\n",
    "    result = num1 * num2\n",
    "elif choice == 4:\n",
    "    result = num1 / num2\n",
    "else:\n",
    "    print(\"Invalid choice\")\n",
    "    exit()\n",
    "\n",
    "print(\"Result:\", result)"
   ]
  },
  {
   "cell_type": "code",
   "execution_count": 39,
   "id": "919c6a0a-e40e-49be-883e-46c950f75383",
   "metadata": {},
   "outputs": [
    {
     "name": "stdin",
     "output_type": "stream",
     "text": [
      "Enter a year:  1600\n"
     ]
    },
    {
     "name": "stdout",
     "output_type": "stream",
     "text": [
      "1600 is a leap year\n"
     ]
    }
   ],
   "source": [
    "year = int(input(\"Enter a year: \"))\n",
    "\n",
    "if (year % 4 == 0 and year % 100 != 0) or (year % 400 == 0):\n",
    "    print(f\"{year} is a leap year\")\n",
    "else:\n",
    "    print(f\"{year} is not a leap year\")"
   ]
  },
  {
   "cell_type": "code",
   "execution_count": 41,
   "id": "eb5a4f5c-9c29-4845-9195-5d4043e5106a",
   "metadata": {},
   "outputs": [
    {
     "name": "stdin",
     "output_type": "stream",
     "text": [
      "Enter temperature in Celsius:  34\n"
     ]
    },
    {
     "name": "stdout",
     "output_type": "stream",
     "text": [
      "93.2\n"
     ]
    }
   ],
   "source": [
    "celsius = float(input(\"Enter temperature in Celsius: \"))\n",
    "fahrenheit = (celsius * 9/5) + 32\n",
    "print(fahrenheit)"
   ]
  },
  {
   "cell_type": "code",
   "execution_count": 42,
   "id": "2f96cd60-9f35-4034-a072-17b5bad171d7",
   "metadata": {},
   "outputs": [
    {
     "name": "stdin",
     "output_type": "stream",
     "text": [
      "Enter first time (hh:mm:ss):  34:22:22\n",
      "Enter second time (hh:mm:ss):  12:02:01\n"
     ]
    },
    {
     "name": "stdout",
     "output_type": "stream",
     "text": [
      "Sum of times: 46:24:23\n"
     ]
    }
   ],
   "source": [
    "Time=(\"Enter the time in hour Minute and Second format :\")\n",
    "hours1, minutes1, seconds1 = map(int, input(\"Enter first time (hh:mm:ss): \").split(':'))\n",
    "hours2, minutes2, seconds2 = map(int, input(\"Enter second time (hh:mm:ss): \").split(':'))\n",
    "\n",
    "total_seconds = (hours1 + hours2) * 3600 + (minutes1 + minutes2) * 60 + seconds1 + seconds2\n",
    "total_hours = total_seconds // 3600\n",
    "total_minutes = (total_seconds % 3600) // 60\n",
    "total_seconds = total_seconds % 60\n",
    "\n",
    "print(f\"Sum of times: {total_hours:02d}:{total_minutes:02d}:{total_seconds:02d}\")"
   ]
  },
  {
   "cell_type": "code",
   "execution_count": null,
   "id": "82c06281-7f66-42e9-92fb-f5c19dd69ba8",
   "metadata": {},
   "outputs": [],
   "source": [
    "# WAP to check given number is Armstrong or not."
   ]
  },
  {
   "cell_type": "code",
   "execution_count": 48,
   "id": "be3e8db4-016d-4299-9d8a-f1341dbac943",
   "metadata": {},
   "outputs": [
    {
     "name": "stdin",
     "output_type": "stream",
     "text": [
      "Enter a number:  370\n"
     ]
    },
    {
     "name": "stdout",
     "output_type": "stream",
     "text": [
      "370 is an Armstrong number\n"
     ]
    }
   ],
   "source": [
    "num = int(input(\"Enter a number: \"))\n",
    "order = len(str(num))\n",
    "sum = 0\n",
    "temp = num\n",
    "\n",
    "while temp > 0:\n",
    "    digit = temp % 10\n",
    "    sum += digit ** order\n",
    "    temp //= 10\n",
    "\n",
    "if num == sum:\n",
    "    print(f\"{num} is an Armstrong number\")\n",
    "else:\n",
    "    print(f\"{num} is not an Armstrong number\")"
   ]
  },
  {
   "cell_type": "code",
   "execution_count": null,
   "id": "559bc6f9-0bc0-426e-ac10-428a9d5ed263",
   "metadata": {},
   "outputs": [],
   "source": [
    "#Wap to find out the factors of a number."
   ]
  },
  {
   "cell_type": "code",
   "execution_count": 50,
   "id": "59b73fbc-1c22-431d-9e3c-23524bc2947d",
   "metadata": {},
   "outputs": [
    {
     "name": "stdin",
     "output_type": "stream",
     "text": [
      "Enter a number:  6\n"
     ]
    },
    {
     "name": "stdout",
     "output_type": "stream",
     "text": [
      "Factors of 6:\n",
      "1\n",
      "2\n",
      "3\n",
      "6\n"
     ]
    }
   ],
   "source": [
    "num = int(input(\"Enter a number: \"))\n",
    "\n",
    "print(f\"Factors of {num}:\")\n",
    "for i in range(1, num + 1):\n",
    "    if num % i == 0:\n",
    "        print(i)"
   ]
  },
  {
   "cell_type": "code",
   "execution_count": null,
   "id": "3fe6890e-0779-4888-8358-3d487fb716ae",
   "metadata": {},
   "outputs": [],
   "source": [
    "#WAPP to print all even number between 100 to 200 using loop."
   ]
  },
  {
   "cell_type": "code",
   "execution_count": 52,
   "id": "df6d0cc3-6e69-4961-9cd3-53192b5bde3a",
   "metadata": {},
   "outputs": [
    {
     "name": "stdout",
     "output_type": "stream",
     "text": [
      "100\n",
      "102\n",
      "104\n",
      "106\n",
      "108\n",
      "110\n",
      "112\n",
      "114\n",
      "116\n",
      "118\n",
      "120\n",
      "122\n",
      "124\n",
      "126\n",
      "128\n",
      "130\n",
      "132\n",
      "134\n",
      "136\n",
      "138\n",
      "140\n",
      "142\n",
      "144\n",
      "146\n",
      "148\n",
      "150\n",
      "152\n",
      "154\n",
      "156\n",
      "158\n",
      "160\n",
      "162\n",
      "164\n",
      "166\n",
      "168\n",
      "170\n",
      "172\n",
      "174\n",
      "176\n",
      "178\n",
      "180\n",
      "182\n",
      "184\n",
      "186\n",
      "188\n",
      "190\n",
      "192\n",
      "194\n",
      "196\n",
      "198\n"
     ]
    }
   ],
   "source": [
    "num=100\n",
    "for i in range(100,200):\n",
    "    if i % 2==0:\n",
    "        print(i)"
   ]
  },
  {
   "cell_type": "code",
   "execution_count": null,
   "id": "1808b612-539e-4f2c-9f48-23792afea0d3",
   "metadata": {},
   "outputs": [],
   "source": [
    "#WAPP to find LCM of 2 numbers using while loop."
   ]
  },
  {
   "cell_type": "code",
   "execution_count": 53,
   "id": "22c46820-a76b-4439-a175-4bc1d761ad52",
   "metadata": {},
   "outputs": [
    {
     "name": "stdin",
     "output_type": "stream",
     "text": [
      "Enter first number:  2\n",
      "Enter second number:  3\n"
     ]
    },
    {
     "name": "stdout",
     "output_type": "stream",
     "text": [
      "LCM of 2 and 3 is 6\n"
     ]
    }
   ],
   "source": [
    "def gcd(x, y):\n",
    "    while y:\n",
    "        x, y = y, x % y\n",
    "    return x\n",
    "\n",
    "def lcm(x, y):\n",
    "    return x * y // gcd(x, y)\n",
    "\n",
    "num1 = int(input(\"Enter first number: \"))\n",
    "num2 = int(input(\"Enter second number: \"))\n",
    "\n",
    "result = lcm(num1, num2)\n",
    "print(f\"LCM of {num1} and {num2} is {result}\")"
   ]
  },
  {
   "cell_type": "code",
   "execution_count": 54,
   "id": "e23e57e0-7ecb-461b-bf47-41be15571c6d",
   "metadata": {},
   "outputs": [
    {
     "name": "stdin",
     "output_type": "stream",
     "text": [
      "Enter coordinates (x1 y1):  2 3\n",
      "Enter coordinates (x2 y2):  2 3\n"
     ]
    },
    {
     "name": "stdout",
     "output_type": "stream",
     "text": [
      "Distance between (2.0, 3.0) and (2.0, 3.0): 0.0\n"
     ]
    }
   ],
   "source": [
    "import math\n",
    "\n",
    "x1, y1 = map(float, input(\"Enter coordinates (x1 y1): \").split())\n",
    "x2, y2 = map(float, input(\"Enter coordinates (x2 y2): \").split())\n",
    "\n",
    "distance = math.sqrt((x2 - x1)*2 + (y2 - y1)*2)\n",
    "print(f\"Distance between ({x1}, {y1}) and ({x2}, {y2}): {distance}\")"
   ]
  },
  {
   "cell_type": "code",
   "execution_count": 55,
   "id": "3bd893fb-049b-4807-bda0-0c48a72def2a",
   "metadata": {},
   "outputs": [
    {
     "name": "stdin",
     "output_type": "stream",
     "text": [
      "Enter a number:  3\n"
     ]
    },
    {
     "name": "stdout",
     "output_type": "stream",
     "text": [
      "3 x 1 = 3\n",
      "3 x 2 = 6\n",
      "3 x 3 = 9\n",
      "3 x 4 = 12\n",
      "3 x 5 = 15\n",
      "3 x 6 = 18\n",
      "3 x 7 = 21\n",
      "3 x 8 = 24\n",
      "3 x 9 = 27\n",
      "3 x 10 = 30\n"
     ]
    }
   ],
   "source": [
    "num = int(input(\"Enter a number: \"))\n",
    "for i in range(1, 11):\n",
    "    print(f\"{num} x {i} = {num * i}\")\n"
   ]
  },
  {
   "cell_type": "code",
   "execution_count": 58,
   "id": "ded13fd0-42cd-478a-8b71-393ccce03cd1",
   "metadata": {},
   "outputs": [
    {
     "name": "stdin",
     "output_type": "stream",
     "text": [
      "Enter the radius of the cylinder:  2\n",
      "Enter the height of the cylinder:  3\n"
     ]
    },
    {
     "name": "stdout",
     "output_type": "stream",
     "text": [
      "Volume of the cylinder: 37.69911184307752\n",
      "Surface Area of the cylinder: 62.83185307179586\n"
     ]
    }
   ],
   "source": [
    "import math\n",
    "\n",
    "radius = float(input(\"Enter the radius of the cylinder: \"))\n",
    "height = float(input(\"Enter the height of the cylinder: \"))\n",
    "\n",
    "volume = math.pi * radius**2 * height\n",
    "surface_area = 2 * math.pi * radius * (radius + height)\n",
    "\n",
    "print(f\"Volume of the cylinder: {volume}\")\n",
    "print(f\"Surface Area of the cylinder: {surface_area}\")"
   ]
  },
  {
   "cell_type": "code",
   "execution_count": 59,
   "id": "fc4782bb-ebb2-47d7-8098-a4f8c20e65fd",
   "metadata": {},
   "outputs": [
    {
     "name": "stdin",
     "output_type": "stream",
     "text": [
      "Enter the coefficient 'a':  2\n",
      "Enter the coefficient 'b':  4\n",
      "Enter the coefficient 'c':  1\n"
     ]
    },
    {
     "name": "stdout",
     "output_type": "stream",
     "text": [
      "Roots are real and distinct: -0.2928932188134524, -1.7071067811865475\n"
     ]
    }
   ],
   "source": [
    "import math\n",
    "\n",
    "a = float(input(\"Enter the coefficient 'a': \"))\n",
    "b = float(input(\"Enter the coefficient 'b': \"))\n",
    "c = float(input(\"Enter the coefficient 'c': \"))\n",
    "\n",
    "discriminant = b**2 - 4*a*c\n",
    "\n",
    "if discriminant > 0:\n",
    "    root1 = (-b + math.sqrt(discriminant)) / (2*a)\n",
    "    root2 = (-b - math.sqrt(discriminant)) / (2*a)\n",
    "    print(f\"Roots are real and distinct: {root1}, {root2}\")\n",
    "elif discriminant == 0:\n",
    "    root = -b / (2*a)\n",
    "    print(f\"Root is real and equal: {root}\")\n",
    "else:\n",
    "    real_part = -b / (2*a)\n",
    "    imaginary_part = math.sqrt(abs(discriminant)) / (2*a)\n",
    "    print(f\"Roots are complex: {real_part} + {imaginary_part}i, {real_part} - {imaginary_part}i\")"
   ]
  },
  {
   "cell_type": "code",
   "execution_count": 61,
   "id": "f2db2ec8-bec9-4726-a39f-4bb7a4d54db4",
   "metadata": {},
   "outputs": [
    {
     "name": "stdout",
     "output_type": "stream",
     "text": [
      "SGPA for Semester 1: 8.3125\n",
      "SGPA for Semester 2: 9.375\n",
      "Overall CGPA: 8.84375\n"
     ]
    }
   ],
   "source": [
    "def calculate_grade(marks):\n",
    "    if marks >= 90:\n",
    "        return 'A+'\n",
    "    elif 80 <= marks < 90:\n",
    "        return 'A'\n",
    "    elif 70 <= marks < 80:\n",
    "        return 'B+'\n",
    "    elif 60 <= marks < 70:\n",
    "        return 'B'\n",
    "    elif 50 <= marks < 60:\n",
    "        return 'C'\n",
    "    elif 40 <= marks < 50:\n",
    "        return 'D'\n",
    "    else:\n",
    "        return 'F'\n",
    "\n",
    "def calculate_sgpa(semester_marks):\n",
    "    total_credit_points = 0\n",
    "    total_credits = 0\n",
    "\n",
    "    for subject, marks, credits in semester_marks:\n",
    "        grade_points = calculate_grade_points(marks)\n",
    "        credit_points = grade_points * credits\n",
    "        total_credit_points += credit_points\n",
    "        total_credits += credits\n",
    "\n",
    "    sgpa = total_credit_points / total_credits\n",
    "    return sgpa\n",
    "\n",
    "def calculate_grade_points(marks):\n",
    "    if marks >= 90:\n",
    "        return 10\n",
    "    elif 80 <= marks < 90:\n",
    "        return 9\n",
    "    elif 70 <= marks < 80:\n",
    "        return 8\n",
    "    elif 60 <= marks < 70:\n",
    "        return 7\n",
    "    elif 50 <= marks < 60:\n",
    "        return 6\n",
    "    elif 40 <= marks < 50:\n",
    "        return 5\n",
    "    else:\n",
    "        return 0\n",
    "\n",
    "# Example usage\n",
    "semester1_marks = [(\"Subject1\", 85, 4), (\"Subject2\", 76, 3), (\"Subject3\", 92, 2), (\"Subject4\", 68, 3), (\"Subject5\", 78, 4)]\n",
    "semester2_marks = [(\"Subject1\", 90, 4), (\"Subject2\", 82, 3), (\"Subject3\", 75, 2), (\"Subject4\", 88, 3), (\"Subject5\", 95, 4)]\n",
    "\n",
    "sgpa1 = calculate_sgpa(semester1_marks)\n",
    "sgpa2 = calculate_sgpa(semester2_marks)\n",
    "\n",
    "overall_cgpa = (sgpa1 + sgpa2) / 2\n",
    "\n",
    "print(f\"SGPA for Semester 1: {sgpa1}\")\n",
    "print(f\"SGPA for Semester 2: {sgpa2}\")\n",
    "print(f\"Overall CGPA: {overall_cgpa}\")"
   ]
  },
  {
   "cell_type": "code",
   "execution_count": null,
   "id": "1aacf80c-1765-4763-a392-08ae5cd2530d",
   "metadata": {},
   "outputs": [],
   "source": []
  }
 ],
 "metadata": {
  "kernelspec": {
   "display_name": "Python 3 (ipykernel)",
   "language": "python",
   "name": "python3"
  },
  "language_info": {
   "codemirror_mode": {
    "name": "ipython",
    "version": 3
   },
   "file_extension": ".py",
   "mimetype": "text/x-python",
   "name": "python",
   "nbconvert_exporter": "python",
   "pygments_lexer": "ipython3",
   "version": "3.12.1"
  }
 },
 "nbformat": 4,
 "nbformat_minor": 5
}
